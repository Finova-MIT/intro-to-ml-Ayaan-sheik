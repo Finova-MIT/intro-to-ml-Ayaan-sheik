{
 "cells": [
  {
   "cell_type": "code",
   "execution_count": 3,
   "metadata": {},
   "outputs": [
    {
     "name": "stdout",
     "output_type": "stream",
     "text": [
      "NumPy Version: 2.2.4\n",
      "Pandas Version: 2.2.3\n"
     ]
    }
   ],
   "source": [
    "import numpy as np\n",
    "\n",
    "import pandas as pd\n",
    "\n",
    "print(\"NumPy Version:\", np.__version__)\n",
    "print(\"Pandas Version:\", pd.__version__)"
   ]
  },
  {
   "cell_type": "code",
   "execution_count": 5,
   "metadata": {},
   "outputs": [
    {
     "name": "stdout",
     "output_type": "stream",
     "text": [
      "<class 'pandas.core.frame.DataFrame'>\n",
      "RangeIndex: 76 entries, 0 to 75\n",
      "Data columns (total 16 columns):\n",
      " #   Column    Non-Null Count  Dtype  \n",
      "---  ------    --------------  -----  \n",
      " 0   name      76 non-null     object \n",
      " 1   mfr       76 non-null     object \n",
      " 2   type      76 non-null     object \n",
      " 3   calories  76 non-null     int64  \n",
      " 4   protein   76 non-null     int64  \n",
      " 5   fat       76 non-null     int64  \n",
      " 6   sodium    76 non-null     int64  \n",
      " 7   fiber     76 non-null     float64\n",
      " 8   carbo     76 non-null     object \n",
      " 9   sugars    76 non-null     object \n",
      " 10  potass    76 non-null     object \n",
      " 11  vitamins  76 non-null     int64  \n",
      " 12  shelf     76 non-null     int64  \n",
      " 13  weight    76 non-null     float64\n",
      " 14  cups      76 non-null     float64\n",
      " 15  rating    76 non-null     float64\n",
      "dtypes: float64(4), int64(6), object(6)\n",
      "memory usage: 9.6+ KB\n"
     ]
    }
   ],
   "source": [
    "df = pd.read_csv(\"Cereals.csv\")\n",
    "df.info()"
   ]
  },
  {
   "cell_type": "code",
   "execution_count": 8,
   "metadata": {},
   "outputs": [
    {
     "data": {
      "application/vnd.microsoft.datawrangler.viewer.v0+json": {
       "columns": [
        {
         "name": "index",
         "rawType": "int64",
         "type": "integer"
        },
        {
         "name": "name",
         "rawType": "object",
         "type": "string"
        },
        {
         "name": "mfr",
         "rawType": "object",
         "type": "string"
        },
        {
         "name": "type",
         "rawType": "object",
         "type": "string"
        },
        {
         "name": "calories",
         "rawType": "int64",
         "type": "integer"
        },
        {
         "name": "protein",
         "rawType": "int64",
         "type": "integer"
        },
        {
         "name": "fat",
         "rawType": "int64",
         "type": "integer"
        },
        {
         "name": "sodium",
         "rawType": "int64",
         "type": "integer"
        },
        {
         "name": "fiber",
         "rawType": "float64",
         "type": "float"
        },
        {
         "name": "carbo",
         "rawType": "object",
         "type": "string"
        },
        {
         "name": "sugars",
         "rawType": "object",
         "type": "string"
        },
        {
         "name": "potass",
         "rawType": "object",
         "type": "unknown"
        },
        {
         "name": "vitamins",
         "rawType": "int64",
         "type": "integer"
        },
        {
         "name": "shelf",
         "rawType": "int64",
         "type": "integer"
        },
        {
         "name": "weight",
         "rawType": "float64",
         "type": "float"
        },
        {
         "name": "cups",
         "rawType": "float64",
         "type": "float"
        },
        {
         "name": "rating",
         "rawType": "float64",
         "type": "float"
        }
       ],
       "conversionMethod": "pd.DataFrame",
       "ref": "c951d455-e372-48b4-b3d4-876ed132cc6b",
       "rows": [
        [
         "0",
         "100NaturalBran",
         "Q",
         "C",
         "120",
         "3",
         "5",
         "15",
         "2.0",
         "8",
         "8",
         "135",
         "0",
         "3",
         "1.0",
         "1.0",
         "33.983679"
        ],
        [
         "1",
         "All-Bran",
         "K",
         "C",
         "70",
         "4",
         "1",
         "260",
         "9.0",
         "7",
         "5",
         "320",
         "25",
         "3",
         "1.0",
         "0.33",
         "59.425505"
        ],
        [
         "2",
         "All-BranwithExtraFiber",
         "K",
         "C",
         "50",
         "4",
         "0",
         "140",
         "14.0",
         "8",
         "0",
         "330",
         "25",
         "3",
         "1.0",
         "0.5",
         "93.704912"
        ],
        [
         "3",
         "AlmondDelight",
         "R",
         "C",
         "110",
         "2",
         "2",
         "200",
         "1.0",
         "14",
         "8",
         null,
         "25",
         "3",
         "1.0",
         "0.75",
         "34.384843"
        ],
        [
         "4",
         "AppleCinnamonCheerios",
         "G",
         "C",
         "110",
         "2",
         "2",
         "180",
         "1.5",
         "10.5",
         "10",
         "70",
         "25",
         "1",
         "1.0",
         "0.75",
         "29.509541"
        ]
       ],
       "shape": {
        "columns": 16,
        "rows": 5
       }
      },
      "text/html": [
       "<div>\n",
       "<style scoped>\n",
       "    .dataframe tbody tr th:only-of-type {\n",
       "        vertical-align: middle;\n",
       "    }\n",
       "\n",
       "    .dataframe tbody tr th {\n",
       "        vertical-align: top;\n",
       "    }\n",
       "\n",
       "    .dataframe thead th {\n",
       "        text-align: right;\n",
       "    }\n",
       "</style>\n",
       "<table border=\"1\" class=\"dataframe\">\n",
       "  <thead>\n",
       "    <tr style=\"text-align: right;\">\n",
       "      <th></th>\n",
       "      <th>name</th>\n",
       "      <th>mfr</th>\n",
       "      <th>type</th>\n",
       "      <th>calories</th>\n",
       "      <th>protein</th>\n",
       "      <th>fat</th>\n",
       "      <th>sodium</th>\n",
       "      <th>fiber</th>\n",
       "      <th>carbo</th>\n",
       "      <th>sugars</th>\n",
       "      <th>potass</th>\n",
       "      <th>vitamins</th>\n",
       "      <th>shelf</th>\n",
       "      <th>weight</th>\n",
       "      <th>cups</th>\n",
       "      <th>rating</th>\n",
       "    </tr>\n",
       "  </thead>\n",
       "  <tbody>\n",
       "    <tr>\n",
       "      <th>0</th>\n",
       "      <td>100NaturalBran</td>\n",
       "      <td>Q</td>\n",
       "      <td>C</td>\n",
       "      <td>120</td>\n",
       "      <td>3</td>\n",
       "      <td>5</td>\n",
       "      <td>15</td>\n",
       "      <td>2.0</td>\n",
       "      <td>8</td>\n",
       "      <td>8</td>\n",
       "      <td>135</td>\n",
       "      <td>0</td>\n",
       "      <td>3</td>\n",
       "      <td>1.0</td>\n",
       "      <td>1.00</td>\n",
       "      <td>33.983679</td>\n",
       "    </tr>\n",
       "    <tr>\n",
       "      <th>1</th>\n",
       "      <td>All-Bran</td>\n",
       "      <td>K</td>\n",
       "      <td>C</td>\n",
       "      <td>70</td>\n",
       "      <td>4</td>\n",
       "      <td>1</td>\n",
       "      <td>260</td>\n",
       "      <td>9.0</td>\n",
       "      <td>7</td>\n",
       "      <td>5</td>\n",
       "      <td>320</td>\n",
       "      <td>25</td>\n",
       "      <td>3</td>\n",
       "      <td>1.0</td>\n",
       "      <td>0.33</td>\n",
       "      <td>59.425505</td>\n",
       "    </tr>\n",
       "    <tr>\n",
       "      <th>2</th>\n",
       "      <td>All-BranwithExtraFiber</td>\n",
       "      <td>K</td>\n",
       "      <td>C</td>\n",
       "      <td>50</td>\n",
       "      <td>4</td>\n",
       "      <td>0</td>\n",
       "      <td>140</td>\n",
       "      <td>14.0</td>\n",
       "      <td>8</td>\n",
       "      <td>0</td>\n",
       "      <td>330</td>\n",
       "      <td>25</td>\n",
       "      <td>3</td>\n",
       "      <td>1.0</td>\n",
       "      <td>0.50</td>\n",
       "      <td>93.704912</td>\n",
       "    </tr>\n",
       "    <tr>\n",
       "      <th>3</th>\n",
       "      <td>AlmondDelight</td>\n",
       "      <td>R</td>\n",
       "      <td>C</td>\n",
       "      <td>110</td>\n",
       "      <td>2</td>\n",
       "      <td>2</td>\n",
       "      <td>200</td>\n",
       "      <td>1.0</td>\n",
       "      <td>14</td>\n",
       "      <td>8</td>\n",
       "      <td>NaN</td>\n",
       "      <td>25</td>\n",
       "      <td>3</td>\n",
       "      <td>1.0</td>\n",
       "      <td>0.75</td>\n",
       "      <td>34.384843</td>\n",
       "    </tr>\n",
       "    <tr>\n",
       "      <th>4</th>\n",
       "      <td>AppleCinnamonCheerios</td>\n",
       "      <td>G</td>\n",
       "      <td>C</td>\n",
       "      <td>110</td>\n",
       "      <td>2</td>\n",
       "      <td>2</td>\n",
       "      <td>180</td>\n",
       "      <td>1.5</td>\n",
       "      <td>10.5</td>\n",
       "      <td>10</td>\n",
       "      <td>70</td>\n",
       "      <td>25</td>\n",
       "      <td>1</td>\n",
       "      <td>1.0</td>\n",
       "      <td>0.75</td>\n",
       "      <td>29.509541</td>\n",
       "    </tr>\n",
       "  </tbody>\n",
       "</table>\n",
       "</div>"
      ],
      "text/plain": [
       "                     name mfr type  calories  protein  fat  sodium  fiber  \\\n",
       "0          100NaturalBran   Q    C       120        3    5      15    2.0   \n",
       "1                All-Bran   K    C        70        4    1     260    9.0   \n",
       "2  All-BranwithExtraFiber   K    C        50        4    0     140   14.0   \n",
       "3           AlmondDelight   R    C       110        2    2     200    1.0   \n",
       "4   AppleCinnamonCheerios   G    C       110        2    2     180    1.5   \n",
       "\n",
       "  carbo sugars potass  vitamins  shelf  weight  cups     rating  \n",
       "0     8      8    135         0      3     1.0  1.00  33.983679  \n",
       "1     7      5    320        25      3     1.0  0.33  59.425505  \n",
       "2     8      0    330        25      3     1.0  0.50  93.704912  \n",
       "3    14      8    NaN        25      3     1.0  0.75  34.384843  \n",
       "4  10.5     10     70        25      1     1.0  0.75  29.509541  "
      ]
     },
     "execution_count": 8,
     "metadata": {},
     "output_type": "execute_result"
    }
   ],
   "source": [
    "df.replace('?',np.nan,inplace = True)\n",
    "df.head()"
   ]
  },
  {
   "cell_type": "code",
   "execution_count": 10,
   "metadata": {},
   "outputs": [],
   "source": [
    "df[\"carbo\"] = df[\"carbo\"].astype(float)\n",
    "df[\"sugars\"] = df[\"sugars\"].astype(float)\n",
    "df[\"potass\"] = df[\"potass\"].astype(float)"
   ]
  },
  {
   "cell_type": "code",
   "execution_count": 12,
   "metadata": {},
   "outputs": [
    {
     "name": "stdout",
     "output_type": "stream",
     "text": [
      "<class 'pandas.core.frame.DataFrame'>\n",
      "RangeIndex: 76 entries, 0 to 75\n",
      "Data columns (total 16 columns):\n",
      " #   Column    Non-Null Count  Dtype  \n",
      "---  ------    --------------  -----  \n",
      " 0   name      76 non-null     object \n",
      " 1   mfr       76 non-null     object \n",
      " 2   type      76 non-null     object \n",
      " 3   calories  76 non-null     int64  \n",
      " 4   protein   76 non-null     int64  \n",
      " 5   fat       76 non-null     int64  \n",
      " 6   sodium    76 non-null     int64  \n",
      " 7   fiber     76 non-null     float64\n",
      " 8   carbo     75 non-null     float64\n",
      " 9   sugars    75 non-null     float64\n",
      " 10  potass    74 non-null     float64\n",
      " 11  vitamins  76 non-null     int64  \n",
      " 12  shelf     76 non-null     int64  \n",
      " 13  weight    76 non-null     float64\n",
      " 14  cups      76 non-null     float64\n",
      " 15  rating    76 non-null     float64\n",
      "dtypes: float64(7), int64(6), object(3)\n",
      "memory usage: 9.6+ KB\n"
     ]
    }
   ],
   "source": [
    "df.info()"
   ]
  },
  {
   "cell_type": "code",
   "execution_count": 14,
   "metadata": {},
   "outputs": [
    {
     "name": "stdout",
     "output_type": "stream",
     "text": [
      "name        0\n",
      "mfr         0\n",
      "type        0\n",
      "calories    0\n",
      "protein     0\n",
      "fat         0\n",
      "sodium      0\n",
      "fiber       0\n",
      "carbo       1\n",
      "sugars      1\n",
      "potass      2\n",
      "vitamins    0\n",
      "shelf       0\n",
      "weight      0\n",
      "cups        0\n",
      "rating      0\n",
      "dtype: int64\n"
     ]
    }
   ],
   "source": [
    "print(df.isna().sum())\n",
    "columns_to_fill = ['carbo', 'sugars','potass']"
   ]
  },
  {
   "cell_type": "code",
   "execution_count": 15,
   "metadata": {},
   "outputs": [
    {
     "name": "stdout",
     "output_type": "stream",
     "text": [
      "name        0\n",
      "mfr         0\n",
      "type        0\n",
      "calories    0\n",
      "protein     0\n",
      "fat         0\n",
      "sodium      0\n",
      "fiber       0\n",
      "carbo       0\n",
      "sugars      0\n",
      "potass      0\n",
      "vitamins    0\n",
      "shelf       0\n",
      "weight      0\n",
      "cups        0\n",
      "rating      0\n",
      "dtype: int64\n"
     ]
    }
   ],
   "source": [
    "df[columns_to_fill] = df[columns_to_fill].fillna(df[columns_to_fill].mean())\n",
    "print(df.isna().sum())"
   ]
  },
  {
   "cell_type": "code",
   "execution_count": 18,
   "metadata": {},
   "outputs": [
    {
     "name": "stdout",
     "output_type": "stream",
     "text": [
      "    calories  protein  fat  sodium  fiber  carbo  sugars      potass  \\\n",
      "3        110        2    2     200    1.0   14.0     8.0   96.216216   \n",
      "4        110        2    2     180    1.5   10.5    10.0   70.000000   \n",
      "5        110        2    0     125    1.0   11.0    14.0   30.000000   \n",
      "7         90        2    1     200    4.0   15.0     6.0  125.000000   \n",
      "8         90        3    0     210    5.0   13.0     5.0  190.000000   \n",
      "9        120        1    2     220    0.0   12.0    12.0   35.000000   \n",
      "11       120        1    3     210    0.0   13.0     9.0   45.000000   \n",
      "12       110        3    2     140    2.0   13.0     7.0  105.000000   \n",
      "13       110        1    1     180    0.0   12.0    13.0   55.000000   \n",
      "14       110        2    0     280    0.0   22.0     3.0   25.000000   \n",
      "15       100        2    0     290    1.0   21.0     2.0   35.000000   \n",
      "16       110        1    0      90    1.0   13.0    12.0   20.000000   \n",
      "17       110        1    1     180    0.0   12.0    13.0   65.000000   \n",
      "18       110        3    3     140    4.0   10.0     7.0  160.000000   \n",
      "20       110        2    0     220    1.0   21.0     3.0   30.000000   \n",
      "21       100        2    1     140    2.0   11.0    10.0  120.000000   \n",
      "22       100        2    0     190    1.0   18.0     5.0   80.000000   \n",
      "23       110        2    1     125    1.0   11.0    13.0   30.000000   \n",
      "24       110        1    0     200    1.0   14.0    11.0   25.000000   \n",
      "28       110        1    1     135    0.0   13.0    12.0   25.000000   \n",
      "29       100        2    0      45    0.0   11.0    15.0   40.000000   \n",
      "30       110        1    1     280    0.0   15.0     9.0   45.000000   \n",
      "31       100        3    1     140    3.0   15.0     5.0   85.000000   \n",
      "32       110        3    0     170    3.0   17.0     3.0   90.000000   \n",
      "33       120        3    3      75    3.0   13.0     4.0  100.000000   \n",
      "34       120        1    2     220    1.0   12.0    11.0   45.000000   \n",
      "35       110        3    1     250    1.5   11.5    10.0   90.000000   \n",
      "36       110        1    0     180    0.0   14.0    11.0   35.000000   \n",
      "40       100        4    2     150    2.0   12.0     6.0   95.000000   \n",
      "41       110        2    1     180    0.0   12.0    12.0   55.000000   \n",
      "46       100        2    1     220    2.0   15.0     6.0   90.000000   \n",
      "47       120        2    1     190    0.0   15.0     9.0   40.000000   \n",
      "49        90        3    0     170    3.0   18.0     2.0   90.000000   \n",
      "55       100        4    1     135    2.0   14.0     6.0  110.000000   \n",
      "58       100        3    2     140    2.5   10.5     8.0  140.000000   \n",
      "60       110        1    0     240    0.0   23.0     2.0   30.000000   \n",
      "61       110        2    0     290    0.0   22.0     3.0   35.000000   \n",
      "65       110        2    1      70    1.0    9.0    15.0   40.000000   \n",
      "67        90        2    0      15    3.0   15.0     5.0   90.000000   \n",
      "71       110        2    1     250    0.0   21.0     3.0   60.000000   \n",
      "72       110        1    1     140    0.0   13.0    12.0   25.000000   \n",
      "73       100        3    1     230    3.0   17.0     3.0  115.000000   \n",
      "74       100        3    1     200    3.0   17.0     3.0  110.000000   \n",
      "75       110        2    1     200    1.0   16.0     8.0   60.000000   \n",
      "\n",
      "    vitamins  shelf  weight  cups     rating  \n",
      "3         25      3     1.0  0.75  34.384843  \n",
      "4         25      1     1.0  0.75  29.509541  \n",
      "5         25      2     1.0  1.00  33.174094  \n",
      "7         25      1     1.0  0.67  49.120253  \n",
      "8         25      3     1.0  0.67  53.313813  \n",
      "9         25      2     1.0  0.75  18.042851  \n",
      "11        25      2     1.0  0.75  19.823573  \n",
      "12        25      3     1.0  0.50  40.400208  \n",
      "13        25      2     1.0  1.00  22.736446  \n",
      "14        25      1     1.0  1.00  41.445019  \n",
      "15        25      1     1.0  1.00  45.863324  \n",
      "16        25      2     1.0  1.00  35.782791  \n",
      "17        25      2     1.0  1.00  22.396513  \n",
      "18        25      3     1.0  0.50  40.448772  \n",
      "20        25      3     1.0  1.00  46.895644  \n",
      "21        25      3     1.0  0.75  36.176196  \n",
      "22        25      3     1.0  0.75  44.330856  \n",
      "23        25      2     1.0  1.00  32.207582  \n",
      "24        25      1     1.0  0.75  31.435973  \n",
      "28        25      2     1.0  0.75  28.025765  \n",
      "29        25      1     1.0  0.88  35.252444  \n",
      "30        25      2     1.0  0.75  23.804043  \n",
      "31        25      3     1.0  0.88  52.076897  \n",
      "32        25      3     1.0  0.25  53.371007  \n",
      "33        25      3     1.0  0.33  45.811716  \n",
      "34        25      2     1.0  1.00  21.871292  \n",
      "35        25      1     1.0  0.75  31.072217  \n",
      "36        25      1     1.0  1.33  28.742414  \n",
      "40        25      2     1.0  0.67  45.328074  \n",
      "41        25      2     1.0  1.00  26.734515  \n",
      "46        25      1     1.0  1.00  40.105965  \n",
      "47        25      2     1.0  0.67  29.924285  \n",
      "49        25      3     1.0  1.00  59.642837  \n",
      "55        25      3     1.0  0.50  49.511874  \n",
      "58        25      3     1.0  0.50  39.703400  \n",
      "60        25      1     1.0  1.13  41.998933  \n",
      "61        25      1     1.0  1.00  40.560159  \n",
      "65        25      2     1.0  0.75  31.230054  \n",
      "67        25      2     1.0  1.00  59.363993  \n",
      "71        25      3     1.0  0.75  39.106174  \n",
      "72        25      2     1.0  1.00  27.753301  \n",
      "73        25      1     1.0  0.67  49.787445  \n",
      "74        25      1     1.0  1.00  51.592193  \n",
      "75        25      1     1.0  0.75  36.187559  \n"
     ]
    }
   ],
   "source": [
    "#Removing outliers\n",
    "# Compute Q1, Q3, and IQR for all numeric columns\n",
    "df_numeric = df.select_dtypes(include=['int', 'float'])\n",
    "Q1 = df_numeric.quantile(0.25)\n",
    "Q3 = df_numeric.quantile(0.75)\n",
    "IQR = Q3 - Q1\n",
    "lower_bound = Q1 - 1.5 * IQR\n",
    "upper_bound = Q3 + 1.5 * IQR\n",
    "# Remove outliers\n",
    "df_filtered = df_numeric[~((df_numeric < lower_bound) | (df_numeric > upper_bound)).any(axis=1)]\n",
    "print(df_filtered)\n"
   ]
  },
  {
   "cell_type": "code",
   "execution_count": 25,
   "metadata": {},
   "outputs": [
    {
     "name": "stdout",
     "output_type": "stream",
     "text": [
      "high_protein_cereals:\n",
      " 10    Cheerios\n",
      "66    SpecialK\n",
      "Name: name, dtype: object\n",
      "low_sugar_cereals: 2     All-BranwithExtraFiber\n",
      "10                  Cheerios\n",
      "14                  CornChex\n",
      "15                CornFlakes\n",
      "19         CreamofWheatQuick\n",
      "20                   Crispix\n",
      "32                Grape-Nuts\n",
      "33          GreatGrainsPecan\n",
      "39                       Kix\n",
      "42                     Maypo\n",
      "49          Nutri-grainWheat\n",
      "52                 Product19\n",
      "53                PuffedRice\n",
      "54               PuffedWheat\n",
      "60                  RiceChex\n",
      "61              RiceKrispies\n",
      "62             ShreddedWheat\n",
      "63        ShreddedWheatnBran\n",
      "64    ShreddedWheatspoonsize\n",
      "66                  SpecialK\n",
      "68           TotalCornFlakes\n",
      "70           TotalWholeGrain\n",
      "71                   Triples\n",
      "73                 WheatChex\n",
      "74                  Wheaties\n",
      "Name: name, dtype: object\n"
     ]
    }
   ],
   "source": [
    "# Filter cereals with more than 5g of protein\n",
    "high_protein_cereals = df[df[\"protein\"] > 5][\"name\"]\n",
    "\n",
    "# Filter cereals with less than 5g of sugar\n",
    "low_sugar_cereals = df[df[\"sugars\"] < 5][\"name\"]\n",
    "\n",
    "\n",
    "print(\"high_protein_cereals:\\n\", high_protein_cereals)\n",
    "print(\"low_sugar_cereals:\", low_sugar_cereals)\n"
   ]
  },
  {
   "cell_type": "code",
   "execution_count": 29,
   "metadata": {},
   "outputs": [
    {
     "name": "stdout",
     "output_type": "stream",
     "text": [
      "The best cereals are: 2     All-BranwithExtraFiber\n",
      "63        ShreddedWheatnBran\n",
      "64    ShreddedWheatspoonsize\n",
      "62             ShreddedWheat\n",
      "19         CreamofWheatQuick\n",
      "54               PuffedWheat\n",
      "53                PuffedRice\n",
      "49          Nutri-grainWheat\n",
      "1                   All-Bran\n",
      "67     StrawberryFruitWheats\n",
      "Name: name, dtype: object\n",
      "The worst cereals are: 9              CapnCrunch\n",
      "11    CinnamonToastCrunch\n",
      "34         HoneyGrahamOhs\n",
      "17           CountChocula\n",
      "13             CocoaPuffs\n",
      "30          GoldenGrahams\n",
      "41            LuckyCharms\n",
      "72                   Trix\n",
      "28          FruityPebbles\n",
      "69        TotalRaisinBran\n",
      "Name: name, dtype: object\n"
     ]
    }
   ],
   "source": [
    "#Top 10 best and worst cereals\n",
    "\n",
    "best = df.sort_values(by = \"rating\",ascending = False).iloc[:10]\n",
    "worst = df.sort_values(by = \"rating\",ascending = True).iloc[:10]\n",
    "print(\"The best cereals are:\",best[\"name\"])\n",
    "print(\"The worst cereals are:\",worst[\"name\"])"
   ]
  },
  {
   "cell_type": "code",
   "execution_count": 31,
   "metadata": {},
   "outputs": [],
   "source": [
    "data = {\n",
    "    'Age': [23, 25, 28, 30, 35, 40, 45, 50, 55, 60],\n",
    "    'Salary': [30, 35, 40, 45, 50, 55, 60, 65, 70, 75],\n",
    "    'Hours_Worked': [40, 42, 38, 45, 50, 48, 44, 46, 40, 42]\n",
    "}\n",
    "\n",
    "# Create a DataFrame\n",
    "df = pd.DataFrame(data)"
   ]
  },
  {
   "cell_type": "code",
   "execution_count": null,
   "metadata": {},
   "outputs": [],
   "source": [
    "mean = df.mean()\n",
    "median = df.median()\n",
    "std_dev = df.std()\n",
    "\n",
    "# Print results\n",
    "print(\"Mean:\\n\", mean)\n",
    "print(\"\\nMedian:\\n\", median)\n",
    "print(\"\\nStandard Deviation:\\n\", std_dev)"
   ]
  },
  {
   "cell_type": "code",
   "execution_count": null,
   "metadata": {},
   "outputs": [],
   "source": []
  }
 ],
 "metadata": {
  "kernelspec": {
   "display_name": "Python 3",
   "language": "python",
   "name": "python3"
  },
  "language_info": {
   "codemirror_mode": {
    "name": "ipython",
    "version": 3
   },
   "file_extension": ".py",
   "mimetype": "text/x-python",
   "name": "python",
   "nbconvert_exporter": "python",
   "pygments_lexer": "ipython3",
   "version": "3.10.12"
  }
 },
 "nbformat": 4,
 "nbformat_minor": 2
}
