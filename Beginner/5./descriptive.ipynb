{
 "cells": [
  {
   "cell_type": "code",
   "execution_count": null,
   "metadata": {},
   "outputs": [],
   "source": [
    "import pandas as pd\n",
    "import numpy as np\n",
    "\n",
    "# Define the dataset\n",
    "data = {\n",
    "    'Age': [23, 25, 28, 30, 35, 40, 45, 50, 55, 60],\n",
    "    'Salary': [30, 35, 40, 45, 50, 55, 60, 65, 70, 75],\n",
    "    'Hours_Worked': [40, 42, 38, 45, 50, 48, 44, 46, 40, 42]\n",
    "}\n",
    "\n",
    "# Create a DataFrame\n",
    "df = pd.DataFrame(data)\n",
    "\n",
    "# Calculate descriptive statistics\n",
    "mean = df.mean()\n",
    "median = df.median()\n",
    "std_dev = df.std()\n",
    "\n",
    "# Print results\n",
    "print(\"Mean:\\n\", mean)\n",
    "print(\"\\nMedian:\\n\", median)\n",
    "print(\"\\nStandard Deviation:\\n\", std_dev)\n"
   ]
  }
 ],
 "metadata": {
  "language_info": {
   "name": "python"
  }
 },
 "nbformat": 4,
 "nbformat_minor": 2
}
